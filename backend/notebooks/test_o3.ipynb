{
 "cells": [
  {
   "cell_type": "code",
   "execution_count": 1,
   "metadata": {},
   "outputs": [],
   "source": [
    "from langchain_openai import ChatOpenAI\n",
    "import os\n",
    "\n",
    "openai_api_key = os.getenv(\"OPENAI_API_KEY\")\n"
   ]
  },
  {
   "cell_type": "code",
   "execution_count": 2,
   "metadata": {},
   "outputs": [
    {
     "name": "stdout",
     "output_type": "stream",
     "text": [
      "Agentic AI and non-agentic AI differ primarily in terms of autonomy, goal‐directed behavior, and the extent to which the system actively initiates actions in pursuit of objectives.\n",
      "\n",
      "1. Agentic AI:\n",
      " • Autonomy and Goal-Directedness: An agentic AI is designed to act as an autonomous agent. It has the capability to set, pursue, and adjust goals. It can evaluate its environment, plan actions, and self-initiate decisions without requiring explicit step-by-step instructions for every action.\n",
      " • Proactivity: Such systems are proactive rather than merely reactive. They can anticipate changes, predict consequences of actions, and make decisions based on modeled goals or objectives.\n",
      " • Complex Decision-Making: Agentic AI often involves complex decision-making processes that simulate or mimic forms of intentionality. They have internal models of their goals and possible states of the world.\n",
      " • Example Areas: Autonomous robots that make decisions in dynamic environments, strategic game-playing AIs that plan several moves ahead, or personal assistants capable of multi-step plans to help users achieve a specific outcome.\n",
      "\n",
      "2. Non-Agentic AI:\n",
      " • Reactive or Tool-Like Behavior: These systems function as tools or reactive modules that perform predefined tasks. Their operations are typically limited to pattern recognition, data processing, or executing specific responses when prompted.\n",
      " • No Intrinsic Goals: A non-agentic AI does not have its own goals or intentions. It responds based on programmed instructions or learned patterns without an intrinsic drive to actively pursue independent objectives.\n",
      " • Limited Autonomy: While these AIs can be very sophisticated in processing information (e.g., natural language processing systems, image classifiers), they typically require human oversight, direction, or trigger; they don’t autonomously set agendas.\n",
      " • Example Areas: Chatbots or virtual assistants that answer queries based on input, recommendation engines based on statistical correlations, or systems that perform diagnostic tasks when given a dataset.\n",
      "\n",
      "Key Differences Summarized:\n",
      " • Decision-Making: Agentic AI is capable of independent decision-making and proactively planning, whereas non-agentic AI operates in a reactive manner based on external input.\n",
      " • Goal Ownership: Agentic AI possesses its own internally moderated goals or objective functions and may revise them over time; non-agentic AI follows user or system-provided goals without personal initiative.\n",
      " • Autonomy Level: Agentic AI exhibits a higher degree of autonomy, enabling it to work in complex, dynamic environments with less human intervention, while non-agentic AI generally performs narrow, well-defined tasks.\n",
      "\n",
      "Understanding these differences is important when considering the design, deployment, and ethical implications of AI systems. Systems with agentic characteristics might require special safeguards or ethical guidelines to ensure that their autonomous actions align with human values and societal norms, whereas non-agentic systems are easier to control and predict but may not offer the same level of adaptability in dynamic contexts."
     ]
    }
   ],
   "source": [
    "llm = ChatOpenAI(model=\"o3-mini\")\n",
    "\n",
    "for token in llm.stream(\"Explain difference between Agentic AI and non-Agentic AI.\", reasoning_effort=\"low\"):\n",
    "\n",
    "    print(token.content, end=\"\")\n"
   ]
  },
  {
   "cell_type": "code",
   "execution_count": 4,
   "metadata": {},
   "outputs": [
    {
     "data": {
      "text/plain": [
       "\"The key difference between Agentic AI and non-Agentic AI lies in the level of decision-making autonomy and goal-directed behavior each type exhibits.\\n\\n1. Agentic AI:\\n\\u2003• Autonomy and Goal-Setting: Agentic AI refers to systems that are designed (or envisioned) to have a certain degree of autonomy such that they can set their own goals, make independent decisions, and take actions in pursuit of those goals. In a way, they operate as “agents” with a degree of self-direction.\\n\\u2003• Adaptability and Persistence: These systems are expected to adapt to new information or changes in the environment by reassessing objectives. They can pursue long-term objectives without constant external intervention.\\n\\u2003• Theoretical and Future-Oriented: While research in agent-based models and agents with limited autonomy exists, fully functioning Agentic AI (in the sense of human-level self-directed agency) is largely a theoretical or aspirational concept at this stage. It is closely related to discussions about artificial general intelligence (AGI) or systems that might someday exhibit complex self-motivated behavior.\\n\\u2003• Examples in Practice: Some multi-agent systems or robotics projects are designed to have a level of agentic behavior—for instance, autonomous vehicles that make decisions in dynamic environments. However, even in these cases, the autonomy is usually bounded by strict rules and human-defined objectives.\\n\\n2. Non-Agentic AI:\\n\\u2003• Task-Specific Functionality: Non-Agentic AI systems are designed to perform specific tasks or solve well-defined problems. They operate within the limits of their programming and do not independently generate or shift their goals.\\n\\u2003• Lack of Intrinsic Motivation: These systems do not have intrinsic or self-generated goals—they simply respond to inputs and follow pre-programmed paths. They mimic decision-making processes without undergoing any form of autonomous goal-setting.\\n\\u2003• Current Dominance in Many Applications: Most of the AI we interact with today (such as recommendation algorithms, image recognition systems, and even most conversational agents) is non-agentic. They execute their tasks based on patterns, prior data, or human-specified parameters.\\n\\u2003• Controlled Environments: Non-Agentic AI is often safer and easier to control since the system's behavior is predictable and confined to its intended functions.\\n\\nIn summary, while Agentic AI aspires to develop autonomy and the capability to self-direct its actions toward chosen objectives—a trait that brings it closer to human-like agency—non-Agentic AI remains focused on executing predefined tasks without generating its own objectives. Most operational AI systems today fall into the non-agentic category, and debates about the risks and benefits of moving toward more agentic systems center on issues like control, predictability, and ethical behavior.\""
      ]
     },
     "execution_count": 4,
     "metadata": {},
     "output_type": "execute_result"
    }
   ],
   "source": [
    "from langchain_openai import ChatOpenAI\n",
    "import os\n",
    "from langchain_core.prompts import PromptTemplate, ChatPromptTemplate\n",
    "\n",
    "openai_api_key = os.getenv(\"OPENAI_API_KEY\")\n",
    "\n",
    "model = ChatOpenAI(api_key=openai_api_key, model=\"o3-mini\")\n",
    "\n",
    "prompt = PromptTemplate(\n",
    "    template=\"Explain difference between Agentic AI and non-Agentic AI.\",\n",
    ")\n",
    "chain = prompt | model\n",
    "\n",
    "response = chain.invoke({})\n",
    "\n",
    "response.model_dump()['content']"
   ]
  },
  {
   "cell_type": "code",
   "execution_count": 11,
   "metadata": {},
   "outputs": [
    {
     "data": {
      "text/plain": [
       "'The distinction between agentic AI and non-agentic AI primarily revolves around the level of autonomy and goal-directed behavior exhibited by the AI system.\\n\\n### Agentic AI\\n\\n1. **Autonomy**: Agentic AI systems are designed to operate with a high degree of autonomy. They can make decisions and take actions without requiring constant human intervention.\\n\\n2. **Goal-Directed Behavior**: These systems are typically programmed to achieve specific goals or objectives. They can plan, execute, and adapt their actions to meet these goals, often in dynamic and unpredictable environments.\\n\\n3. **Decision-Making**: Agentic AI can evaluate different courses of action and select the one that best aligns with its objectives. This involves a level of reasoning and problem-solving capability.\\n\\n4. **Examples**: Autonomous vehicles, robotic systems with complex tasks, and AI personal assistants that manage tasks based on user preferences and context.\\n\\n### Non-Agentic AI\\n\\n1. **Limited Autonomy**: Non-agentic AI systems have limited or no autonomy. They perform specific tasks as instructed and do not make independent decisions.\\n\\n2. **Task-Specific**: These systems are designed to perform narrowly defined tasks. They do not have overarching goals or the ability to adapt their behavior beyond their programming.\\n\\n3. **Reactive**: Non-agentic AI typically reacts to inputs or queries without proactive behavior. It processes data and provides outputs based on predefined algorithms.\\n\\n4. **Examples**: Image recognition systems, language translation tools, and recommendation engines that provide outputs based on user input or historical data.\\n\\nIn summary, the key difference lies in the level of autonomy and goal-directed behavior. Agentic AI systems are more autonomous and capable of pursuing goals, while non-agentic AI systems are more constrained and task-specific, operating within the boundaries of their programming.'"
      ]
     },
     "execution_count": 11,
     "metadata": {},
     "output_type": "execute_result"
    }
   ],
   "source": []
  },
  {
   "cell_type": "code",
   "execution_count": 10,
   "metadata": {},
   "outputs": [
    {
     "name": "stdout",
     "output_type": "stream",
     "text": [
      "The difference between agentic and non-agentic AI lies in their capacity for independent action and goal pursuit.  It boils down to whether the AI system actively pursues goals in the world or simply processes information.\n",
      "\n",
      "**Agentic AI:**\n",
      "\n",
      "* **Proactive:**  Agentic AI systems are characterized by their ability to act autonomously in the environment to achieve their goals.  They don't just react to inputs; they actively plan, execute actions, and adapt to achieve desired outcomes.  They have internal models of the world and use them to reason about the best course of action.\n",
      "* **Goal-oriented:**  They possess goals or objectives that drive their actions.  These goals can be explicitly programmed or learned through interaction with the environment (e.g., reinforcement learning).\n",
      "* **Autonomous:** They can operate without constant human intervention. While they might receive initial instructions or parameters, they largely determine their own actions within those constraints.\n",
      "* **Examples:**  A self-driving car (navigating to a destination), a robotic vacuum cleaner (cleaning a room), a game-playing AI (winning the game).\n",
      "\n",
      "\n",
      "**Non-Agentic AI:**\n",
      "\n",
      "* **Reactive:** Non-agentic AI systems primarily react to inputs without actively pursuing goals. They perform specific tasks based on the data they receive, but they don't initiate actions independently to achieve a broader objective.\n",
      "* **Passive:** They lack internal models of the world and don't plan or strategize. They operate on a more \"if-then\" basis.\n",
      "* **No intrinsic goals:** They don't have goals of their own; their behavior is entirely determined by the programmer's instructions.\n",
      "* **Examples:** A spam filter (classifying emails), a recommendation system (suggesting products), a facial recognition system (identifying faces).\n",
      "\n",
      "\n",
      "**Key distinction:**  The crucial difference is *autonomy* and *goal-directedness*. Agentic AI exhibits both, while non-agentic AI largely lacks them.  A non-agentic AI might be a component *within* an agentic system (e.g., the facial recognition system could be a part of a self-driving car's obstacle avoidance system).  However, the facial recognition system itself isn't acting autonomously to achieve a broader goal; it's simply performing a specific function based on input.\n",
      "\n"
     ]
    }
   ],
   "source": [
    "import google.generativeai as genai\n",
    "import os\n",
    "\n",
    "googe_api_key = os.getenv(\"GOOGLE_API_KEY\")\n",
    "genai.configure(api_key=googe_api_key)\n",
    "model = genai.GenerativeModel(\"gemini-1.5-flash\")\n",
    "response = model.generate_content(\n",
    "    \"Explain difference between Agentic AI and non-Agentic AI.\")\n",
    "print(response.text)\n"
   ]
  }
 ],
 "metadata": {
  "kernelspec": {
   "display_name": ".venv",
   "language": "python",
   "name": "python3"
  },
  "language_info": {
   "codemirror_mode": {
    "name": "ipython",
    "version": 3
   },
   "file_extension": ".py",
   "mimetype": "text/x-python",
   "name": "python",
   "nbconvert_exporter": "python",
   "pygments_lexer": "ipython3",
   "version": "3.11.9"
  }
 },
 "nbformat": 4,
 "nbformat_minor": 2
}
